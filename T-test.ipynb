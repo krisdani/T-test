{
 "cells": [
  {
   "cell_type": "markdown",
   "id": "2c2fe69d",
   "metadata": {},
   "source": [
    "Задача:\n",
    "Исследователь проводил эксперимент с доставкой заказов в двух разных районах (A и B). Он хочет определить, есть ли статистически значимая разница во времени доставки между этими двумя \n",
    "группами. В DataFrame, который ты предоставила, у нас есть информация о времени доставки (delivery_time) и группе эксперимента (experiment_group) для каждого заказа.\n",
    "\n",
    "Твоя задача:\n",
    "\n",
    "1 - Провести предварительный анализ данных, включающий описание статистик (describe()) для времени доставки в каждой группе эксперимента (experiment_group).\n",
    "\n",
    "2 - Сформулировать нулевую и альтернативную гипотезы для этой задачи.\n",
    "\n",
    "3 - Применить t-тест (например, scipy.stats.ttest_ind()) для сравнения времени доставки между группами.\n",
    "\n",
    "4 - Проанализировать результаты t-теста и сделать выводы о статистической значимости разницы во времени доставки между группами.\n",
    "\n",
    "5 - Включить в отчет значения p-значения и интерпретировать его значение с учетом выбранного уровня значимости.\n",
    "\n",
    "Обрати внимание, что в данной задаче мы предполагаем, что распределения времени доставки в каждой группе примерно нормальны и имеют одинаковую дисперсию. Также, чтобы выполнить тест, \n",
    "необходимо убедиться, что выборки достаточно большие для применения центральной предельной теоремы."
   ]
  },
  {
   "cell_type": "code",
   "execution_count": 19,
   "id": "7f1dd9db",
   "metadata": {},
   "outputs": [],
   "source": [
    "import pandas as pd\n",
    "import numpy as np\n",
    "import seaborn as sns\n",
    "import scipy.stats as stats\n",
    "import matplotlib.pyplot as plt\n",
    "import statsmodels.api as sm"
   ]
  },
  {
   "cell_type": "code",
   "execution_count": 20,
   "id": "78c5fb0b",
   "metadata": {},
   "outputs": [],
   "source": [
    "df = pd.read_csv('experiment_lesson_4.csv')"
   ]
  },
  {
   "cell_type": "code",
   "execution_count": 21,
   "id": "ed89b165",
   "metadata": {},
   "outputs": [
    {
     "data": {
      "text/html": [
       "<div>\n",
       "<style scoped>\n",
       "    .dataframe tbody tr th:only-of-type {\n",
       "        vertical-align: middle;\n",
       "    }\n",
       "\n",
       "    .dataframe tbody tr th {\n",
       "        vertical-align: top;\n",
       "    }\n",
       "\n",
       "    .dataframe thead th {\n",
       "        text-align: right;\n",
       "    }\n",
       "</style>\n",
       "<table border=\"1\" class=\"dataframe\">\n",
       "  <thead>\n",
       "    <tr style=\"text-align: right;\">\n",
       "      <th></th>\n",
       "      <th>order_id</th>\n",
       "      <th>delivery_time</th>\n",
       "      <th>district</th>\n",
       "      <th>experiment_group</th>\n",
       "    </tr>\n",
       "  </thead>\n",
       "  <tbody>\n",
       "    <tr>\n",
       "      <th>0</th>\n",
       "      <td>3159</td>\n",
       "      <td>44.0</td>\n",
       "      <td>Purlieus</td>\n",
       "      <td>control</td>\n",
       "    </tr>\n",
       "    <tr>\n",
       "      <th>1</th>\n",
       "      <td>10426</td>\n",
       "      <td>51.0</td>\n",
       "      <td>Purlieus</td>\n",
       "      <td>control</td>\n",
       "    </tr>\n",
       "    <tr>\n",
       "      <th>2</th>\n",
       "      <td>9155</td>\n",
       "      <td>46.0</td>\n",
       "      <td>Purlieus</td>\n",
       "      <td>control</td>\n",
       "    </tr>\n",
       "    <tr>\n",
       "      <th>3</th>\n",
       "      <td>10699</td>\n",
       "      <td>34.0</td>\n",
       "      <td>Purlieus</td>\n",
       "      <td>control</td>\n",
       "    </tr>\n",
       "    <tr>\n",
       "      <th>4</th>\n",
       "      <td>10061</td>\n",
       "      <td>43.0</td>\n",
       "      <td>Purlieus</td>\n",
       "      <td>control</td>\n",
       "    </tr>\n",
       "  </tbody>\n",
       "</table>\n",
       "</div>"
      ],
      "text/plain": [
       "   order_id  delivery_time  district experiment_group\n",
       "0      3159           44.0  Purlieus          control\n",
       "1     10426           51.0  Purlieus          control\n",
       "2      9155           46.0  Purlieus          control\n",
       "3     10699           34.0  Purlieus          control\n",
       "4     10061           43.0  Purlieus          control"
      ]
     },
     "execution_count": 21,
     "metadata": {},
     "output_type": "execute_result"
    }
   ],
   "source": [
    "df.head()"
   ]
  },
  {
   "cell_type": "markdown",
   "id": "daaad1bc",
   "metadata": {},
   "source": [
    "1 - Провести предварительный анализ данных, включающий описание статистик (describe()) для времени доставки в каждой группе эксперимента (experiment_group)."
   ]
  },
  {
   "cell_type": "code",
   "execution_count": 22,
   "id": "8b1de78c",
   "metadata": {},
   "outputs": [
    {
     "data": {
      "text/plain": [
       "order_id              int64\n",
       "delivery_time       float64\n",
       "district             object\n",
       "experiment_group     object\n",
       "dtype: object"
      ]
     },
     "execution_count": 22,
     "metadata": {},
     "output_type": "execute_result"
    }
   ],
   "source": [
    "# Проверяю типы\n",
    "\n",
    "df.dtypes"
   ]
  },
  {
   "cell_type": "code",
   "execution_count": 23,
   "id": "9bb00f5c",
   "metadata": {},
   "outputs": [
    {
     "data": {
      "text/plain": [
       "0"
      ]
     },
     "execution_count": 23,
     "metadata": {},
     "output_type": "execute_result"
    }
   ],
   "source": [
    "# Проверяю наличие дубликатов в df\n",
    "\n",
    "df.duplicated().sum()"
   ]
  },
  {
   "cell_type": "code",
   "execution_count": 24,
   "id": "c630c2c1",
   "metadata": {},
   "outputs": [
    {
     "data": {
      "text/plain": [
       "order_id            0\n",
       "delivery_time       0\n",
       "district            0\n",
       "experiment_group    0\n",
       "dtype: int64"
      ]
     },
     "execution_count": 24,
     "metadata": {},
     "output_type": "execute_result"
    }
   ],
   "source": [
    "# Смотрю кол-во пропущенных значений в столбцах\n",
    "\n",
    "df.isnull().sum()"
   ]
  },
  {
   "cell_type": "code",
   "execution_count": 25,
   "id": "423f8b60",
   "metadata": {},
   "outputs": [
    {
     "data": {
      "text/html": [
       "<div>\n",
       "<style scoped>\n",
       "    .dataframe tbody tr th:only-of-type {\n",
       "        vertical-align: middle;\n",
       "    }\n",
       "\n",
       "    .dataframe tbody tr th {\n",
       "        vertical-align: top;\n",
       "    }\n",
       "\n",
       "    .dataframe thead th {\n",
       "        text-align: right;\n",
       "    }\n",
       "</style>\n",
       "<table border=\"1\" class=\"dataframe\">\n",
       "  <thead>\n",
       "    <tr style=\"text-align: right;\">\n",
       "      <th></th>\n",
       "      <th>order_id</th>\n",
       "      <th>delivery_time</th>\n",
       "    </tr>\n",
       "  </thead>\n",
       "  <tbody>\n",
       "    <tr>\n",
       "      <th>count</th>\n",
       "      <td>20196.000000</td>\n",
       "      <td>20196.000000</td>\n",
       "    </tr>\n",
       "    <tr>\n",
       "      <th>mean</th>\n",
       "      <td>11103.503565</td>\n",
       "      <td>42.054169</td>\n",
       "    </tr>\n",
       "    <tr>\n",
       "      <th>std</th>\n",
       "      <td>5835.424404</td>\n",
       "      <td>10.382196</td>\n",
       "    </tr>\n",
       "    <tr>\n",
       "      <th>min</th>\n",
       "      <td>1000.000000</td>\n",
       "      <td>10.000000</td>\n",
       "    </tr>\n",
       "    <tr>\n",
       "      <th>25%</th>\n",
       "      <td>6048.750000</td>\n",
       "      <td>35.000000</td>\n",
       "    </tr>\n",
       "    <tr>\n",
       "      <th>50%</th>\n",
       "      <td>11109.500000</td>\n",
       "      <td>42.000000</td>\n",
       "    </tr>\n",
       "    <tr>\n",
       "      <th>75%</th>\n",
       "      <td>16158.250000</td>\n",
       "      <td>49.000000</td>\n",
       "    </tr>\n",
       "    <tr>\n",
       "      <th>max</th>\n",
       "      <td>21207.000000</td>\n",
       "      <td>83.000000</td>\n",
       "    </tr>\n",
       "  </tbody>\n",
       "</table>\n",
       "</div>"
      ],
      "text/plain": [
       "           order_id  delivery_time\n",
       "count  20196.000000   20196.000000\n",
       "mean   11103.503565      42.054169\n",
       "std     5835.424404      10.382196\n",
       "min     1000.000000      10.000000\n",
       "25%     6048.750000      35.000000\n",
       "50%    11109.500000      42.000000\n",
       "75%    16158.250000      49.000000\n",
       "max    21207.000000      83.000000"
      ]
     },
     "execution_count": 25,
     "metadata": {},
     "output_type": "execute_result"
    }
   ],
   "source": [
    "# Использую метод describe\n",
    "\n",
    "df.describe()"
   ]
  },
  {
   "cell_type": "code",
   "execution_count": 26,
   "id": "59ffff29",
   "metadata": {
    "scrolled": true
   },
   "outputs": [
    {
     "data": {
      "text/plain": [
       "count     20196\n",
       "unique        2\n",
       "top        test\n",
       "freq      10104\n",
       "Name: experiment_group, dtype: object"
      ]
     },
     "execution_count": 26,
     "metadata": {},
     "output_type": "execute_result"
    }
   ],
   "source": [
    "df['experiment_group'].describe()"
   ]
  },
  {
   "cell_type": "code",
   "execution_count": 27,
   "id": "16720496",
   "metadata": {},
   "outputs": [],
   "source": [
    "# Делю данные на группы тест и контрол\n",
    "\n",
    "control_group = df[df['experiment_group'] == 'control']\n",
    "test_group = df[df['experiment_group'] == 'test']"
   ]
  },
  {
   "cell_type": "code",
   "execution_count": 28,
   "id": "f94b6fd3",
   "metadata": {},
   "outputs": [
    {
     "data": {
      "image/png": "[encoded data removed]",
      "text/plain": [
       "<Figure size 1000x500 with 2 Axes>"
      ]
     },
     "metadata": {},
     "output_type": "display_data"
    }
   ],
   "source": [
    "# строю графики\n",
    "\n",
    "fig, axs = plt.subplots(1, 2, figsize=(10, 5), sharey=True)\n",
    "axs[0].hist(control_group['delivery_time'], bins=20)\n",
    "axs[0].set_title('Control Group')\n",
    "axs[1].hist(test_group['delivery_time'], bins=20)\n",
    "axs[1].set_title('Test Group')\n",
    "fig.suptitle('Delivery Time Distribution')\n",
    "plt.show()"
   ]
  },
  {
   "cell_type": "markdown",
   "id": "55dff455",
   "metadata": {},
   "source": [
    "Теперь 2 датафрейма отфильтрованы на тестовую и контрольную группу"
   ]
  },
  {
   "cell_type": "markdown",
   "id": "476a2198",
   "metadata": {},
   "source": [
    "Поскольку новые датафреймы выдают ошибку  из-за типа данных object (AttributeError: 'Series' object has no attribute 'discribe')\n",
    "в документации Pandas нашла, как работать с describe и с датафреймами, которые нам нужны. А именно датафреймф тест и контрол, \n",
    "разбиты на контрольную и тестовую группы."
   ]
  },
  {
   "cell_type": "code",
   "execution_count": 29,
   "id": "973d1643",
   "metadata": {},
   "outputs": [
    {
     "data": {
      "text/html": [
       "<div>\n",
       "<style scoped>\n",
       "    .dataframe tbody tr th:only-of-type {\n",
       "        vertical-align: middle;\n",
       "    }\n",
       "\n",
       "    .dataframe tbody tr th {\n",
       "        vertical-align: top;\n",
       "    }\n",
       "\n",
       "    .dataframe thead th {\n",
       "        text-align: right;\n",
       "    }\n",
       "</style>\n",
       "<table border=\"1\" class=\"dataframe\">\n",
       "  <thead>\n",
       "    <tr style=\"text-align: right;\">\n",
       "      <th></th>\n",
       "      <th>district</th>\n",
       "      <th>experiment_group</th>\n",
       "    </tr>\n",
       "  </thead>\n",
       "  <tbody>\n",
       "    <tr>\n",
       "      <th>count</th>\n",
       "      <td>10104</td>\n",
       "      <td>10104</td>\n",
       "    </tr>\n",
       "    <tr>\n",
       "      <th>unique</th>\n",
       "      <td>3</td>\n",
       "      <td>1</td>\n",
       "    </tr>\n",
       "    <tr>\n",
       "      <th>top</th>\n",
       "      <td>Purlieus</td>\n",
       "      <td>test</td>\n",
       "    </tr>\n",
       "    <tr>\n",
       "      <th>freq</th>\n",
       "      <td>8179</td>\n",
       "      <td>10104</td>\n",
       "    </tr>\n",
       "  </tbody>\n",
       "</table>\n",
       "</div>"
      ],
      "text/plain": [
       "        district experiment_group\n",
       "count      10104            10104\n",
       "unique         3                1\n",
       "top     Purlieus             test\n",
       "freq        8179            10104"
      ]
     },
     "execution_count": 29,
     "metadata": {},
     "output_type": "execute_result"
    }
   ],
   "source": [
    "test_group.describe(include=[object])  # включение в describe только строковых столбцов"
   ]
  },
  {
   "cell_type": "code",
   "execution_count": 30,
   "id": "f7647851",
   "metadata": {},
   "outputs": [
    {
     "data": {
      "text/html": [
       "<div>\n",
       "<style scoped>\n",
       "    .dataframe tbody tr th:only-of-type {\n",
       "        vertical-align: middle;\n",
       "    }\n",
       "\n",
       "    .dataframe tbody tr th {\n",
       "        vertical-align: top;\n",
       "    }\n",
       "\n",
       "    .dataframe thead th {\n",
       "        text-align: right;\n",
       "    }\n",
       "</style>\n",
       "<table border=\"1\" class=\"dataframe\">\n",
       "  <thead>\n",
       "    <tr style=\"text-align: right;\">\n",
       "      <th></th>\n",
       "      <th>order_id</th>\n",
       "      <th>delivery_time</th>\n",
       "    </tr>\n",
       "  </thead>\n",
       "  <tbody>\n",
       "    <tr>\n",
       "      <th>count</th>\n",
       "      <td>10104.000000</td>\n",
       "      <td>10104.000000</td>\n",
       "    </tr>\n",
       "    <tr>\n",
       "      <th>mean</th>\n",
       "      <td>16155.500000</td>\n",
       "      <td>39.046813</td>\n",
       "    </tr>\n",
       "    <tr>\n",
       "      <th>std</th>\n",
       "      <td>2916.917894</td>\n",
       "      <td>9.883308</td>\n",
       "    </tr>\n",
       "    <tr>\n",
       "      <th>min</th>\n",
       "      <td>11104.000000</td>\n",
       "      <td>10.000000</td>\n",
       "    </tr>\n",
       "    <tr>\n",
       "      <th>25%</th>\n",
       "      <td>13629.750000</td>\n",
       "      <td>32.000000</td>\n",
       "    </tr>\n",
       "    <tr>\n",
       "      <th>50%</th>\n",
       "      <td>16155.500000</td>\n",
       "      <td>39.000000</td>\n",
       "    </tr>\n",
       "    <tr>\n",
       "      <th>75%</th>\n",
       "      <td>18681.250000</td>\n",
       "      <td>46.000000</td>\n",
       "    </tr>\n",
       "    <tr>\n",
       "      <th>max</th>\n",
       "      <td>21207.000000</td>\n",
       "      <td>75.000000</td>\n",
       "    </tr>\n",
       "  </tbody>\n",
       "</table>\n",
       "</div>"
      ],
      "text/plain": [
       "           order_id  delivery_time\n",
       "count  10104.000000   10104.000000\n",
       "mean   16155.500000      39.046813\n",
       "std     2916.917894       9.883308\n",
       "min    11104.000000      10.000000\n",
       "25%    13629.750000      32.000000\n",
       "50%    16155.500000      39.000000\n",
       "75%    18681.250000      46.000000\n",
       "max    21207.000000      75.000000"
      ]
     },
     "execution_count": 30,
     "metadata": {},
     "output_type": "execute_result"
    }
   ],
   "source": [
    "test_group.describe(exclude=[object])  # Исключение столбцов объекта из DataFrame описания           "
   ]
  },
  {
   "cell_type": "code",
   "execution_count": 31,
   "id": "c2b9cf07",
   "metadata": {},
   "outputs": [
    {
     "data": {
      "text/html": [
       "<div>\n",
       "<style scoped>\n",
       "    .dataframe tbody tr th:only-of-type {\n",
       "        vertical-align: middle;\n",
       "    }\n",
       "\n",
       "    .dataframe tbody tr th {\n",
       "        vertical-align: top;\n",
       "    }\n",
       "\n",
       "    .dataframe thead th {\n",
       "        text-align: right;\n",
       "    }\n",
       "</style>\n",
       "<table border=\"1\" class=\"dataframe\">\n",
       "  <thead>\n",
       "    <tr style=\"text-align: right;\">\n",
       "      <th></th>\n",
       "      <th>district</th>\n",
       "      <th>experiment_group</th>\n",
       "    </tr>\n",
       "  </thead>\n",
       "  <tbody>\n",
       "    <tr>\n",
       "      <th>count</th>\n",
       "      <td>10092</td>\n",
       "      <td>10092</td>\n",
       "    </tr>\n",
       "    <tr>\n",
       "      <th>unique</th>\n",
       "      <td>3</td>\n",
       "      <td>1</td>\n",
       "    </tr>\n",
       "    <tr>\n",
       "      <th>top</th>\n",
       "      <td>Purlieus</td>\n",
       "      <td>control</td>\n",
       "    </tr>\n",
       "    <tr>\n",
       "      <th>freq</th>\n",
       "      <td>8781</td>\n",
       "      <td>10092</td>\n",
       "    </tr>\n",
       "  </tbody>\n",
       "</table>\n",
       "</div>"
      ],
      "text/plain": [
       "        district experiment_group\n",
       "count      10092            10092\n",
       "unique         3                1\n",
       "top     Purlieus          control\n",
       "freq        8781            10092"
      ]
     },
     "execution_count": 31,
     "metadata": {},
     "output_type": "execute_result"
    }
   ],
   "source": [
    "control_group.describe(include=[object])"
   ]
  },
  {
   "cell_type": "code",
   "execution_count": 32,
   "id": "d8e9aeb9",
   "metadata": {},
   "outputs": [
    {
     "data": {
      "text/html": [
       "<div>\n",
       "<style scoped>\n",
       "    .dataframe tbody tr th:only-of-type {\n",
       "        vertical-align: middle;\n",
       "    }\n",
       "\n",
       "    .dataframe tbody tr th {\n",
       "        vertical-align: top;\n",
       "    }\n",
       "\n",
       "    .dataframe thead th {\n",
       "        text-align: right;\n",
       "    }\n",
       "</style>\n",
       "<table border=\"1\" class=\"dataframe\">\n",
       "  <thead>\n",
       "    <tr style=\"text-align: right;\">\n",
       "      <th></th>\n",
       "      <th>order_id</th>\n",
       "      <th>delivery_time</th>\n",
       "    </tr>\n",
       "  </thead>\n",
       "  <tbody>\n",
       "    <tr>\n",
       "      <th>count</th>\n",
       "      <td>10092.000000</td>\n",
       "      <td>10092.000000</td>\n",
       "    </tr>\n",
       "    <tr>\n",
       "      <th>mean</th>\n",
       "      <td>6045.500000</td>\n",
       "      <td>45.065101</td>\n",
       "    </tr>\n",
       "    <tr>\n",
       "      <th>std</th>\n",
       "      <td>2913.453792</td>\n",
       "      <td>9.990017</td>\n",
       "    </tr>\n",
       "    <tr>\n",
       "      <th>min</th>\n",
       "      <td>1000.000000</td>\n",
       "      <td>15.000000</td>\n",
       "    </tr>\n",
       "    <tr>\n",
       "      <th>25%</th>\n",
       "      <td>3522.750000</td>\n",
       "      <td>38.000000</td>\n",
       "    </tr>\n",
       "    <tr>\n",
       "      <th>50%</th>\n",
       "      <td>6045.500000</td>\n",
       "      <td>45.000000</td>\n",
       "    </tr>\n",
       "    <tr>\n",
       "      <th>75%</th>\n",
       "      <td>8568.250000</td>\n",
       "      <td>52.000000</td>\n",
       "    </tr>\n",
       "    <tr>\n",
       "      <th>max</th>\n",
       "      <td>11091.000000</td>\n",
       "      <td>83.000000</td>\n",
       "    </tr>\n",
       "  </tbody>\n",
       "</table>\n",
       "</div>"
      ],
      "text/plain": [
       "           order_id  delivery_time\n",
       "count  10092.000000   10092.000000\n",
       "mean    6045.500000      45.065101\n",
       "std     2913.453792       9.990017\n",
       "min     1000.000000      15.000000\n",
       "25%     3522.750000      38.000000\n",
       "50%     6045.500000      45.000000\n",
       "75%     8568.250000      52.000000\n",
       "max    11091.000000      83.000000"
      ]
     },
     "execution_count": 32,
     "metadata": {},
     "output_type": "execute_result"
    }
   ],
   "source": [
    "control_group.describe(exclude=[object])"
   ]
  },
  {
   "cell_type": "markdown",
   "id": "4c199ae9",
   "metadata": {},
   "source": [
    "2 - Сформулировать нулевую и альтернативную гипотезы для этой задачи."
   ]
  },
  {
   "cell_type": "markdown",
   "id": "5a3a77f6",
   "metadata": {},
   "source": [
    "Нулевая гипотеза (H0): Нет статистически значимой разницы во времени доставки между контрольной и тестовой группами.\n",
    "\n",
    "Альтернативная гипотеза (H1): Существует статистически значимая разница во времени доставки между контрольной и тестовой группами.\n",
    "\n",
    "Для проведения t-теста использую функцию stats.ttest_ind() из библиотеки SciPy."
   ]
  },
  {
   "cell_type": "code",
   "execution_count": 33,
   "id": "0b6a7ad4",
   "metadata": {},
   "outputs": [],
   "source": [
    "# Формулирую гипотезы\n",
    "\n",
    "null_hypothesis = 'Нет статистически значимой разницы во времени доставки между контрольной и тестовой группами.'\n",
    "alternative_hypothesis = 'Существует статистически значимая разница во времени доставки между контрольной и тестовой группами.'"
   ]
  },
  {
   "cell_type": "code",
   "execution_count": 34,
   "id": "9d23d5a7",
   "metadata": {},
   "outputs": [],
   "source": [
    "# Выполняю t-тест\n",
    "\n",
    "t_statistic, p_value = stats.ttest_ind(control_group['delivery_time'], test_group['delivery_time'])"
   ]
  },
  {
   "cell_type": "code",
   "execution_count": 35,
   "id": "606bdc7a",
   "metadata": {},
   "outputs": [
    {
     "name": "stdout",
     "output_type": "stream",
     "text": [
      "t-статистика: 43.03582663183714\n",
      "p-значение: 0.0\n"
     ]
    }
   ],
   "source": [
    "# Результаты t-теста\n",
    "\n",
    "print('t-статистика:', t_statistic)\n",
    "print('p-значение:', p_value)"
   ]
  },
  {
   "cell_type": "code",
   "execution_count": 36,
   "id": "772bff6c",
   "metadata": {},
   "outputs": [
    {
     "name": "stdout",
     "output_type": "stream",
     "text": [
      "Отклоняем нулевую гипотезу.\n",
      "Существует статистически значимая разница во времени доставки между контрольной и тестовой группами.\n"
     ]
    }
   ],
   "source": [
    "# Сравнение p-значения с уровнем значимости alpha\n",
    "\n",
    "alpha = 0.05\n",
    "if p_value < alpha:\n",
    "    print('Отклоняем нулевую гипотезу.')\n",
    "    print(alternative_hypothesis)\n",
    "else:\n",
    "    print('Не можем отклонить нулевую гипотезу.')\n",
    "    print(null_hypothesis)"
   ]
  },
  {
   "cell_type": "markdown",
   "id": "44d2b1cf",
   "metadata": {},
   "source": [
    "3 - Применить t-тест (например, scipy.stats.ttest_ind()) для сравнения времени доставки между группами."
   ]
  },
  {
   "cell_type": "code",
   "execution_count": 37,
   "id": "282054cf",
   "metadata": {},
   "outputs": [
    {
     "data": {
      "text/plain": [
       "Ttest_indResult(statistic=-43.035552024241454, pvalue=0.0)"
      ]
     },
     "execution_count": 37,
     "metadata": {},
     "output_type": "execute_result"
    }
   ],
   "source": [
    "stats.ttest_ind(test_group['delivery_time'], control_group['delivery_time'], equal_var = False)"
   ]
  },
  {
   "cell_type": "markdown",
   "id": "28cb48dd",
   "metadata": {},
   "source": [
    "4 - Проанализировать результаты t-теста и сделать выводы о статистической значимости разницы во времени доставки между группами."
   ]
  },
  {
   "cell_type": "markdown",
   "id": "7e409cf8",
   "metadata": {},
   "source": [
    "Анализ t-статистики:"
   ]
  },
  {
   "cell_type": "markdown",
   "id": "276cca09",
   "metadata": {},
   "source": [
    "Значение t-статистики больше 0, это означает, что среднее значение времени доставки в тестовой группе выше, чем в контрольной группе. \n"
   ]
  },
  {
   "cell_type": "markdown",
   "id": "907937d9",
   "metadata": {},
   "source": [
    " Анализ p-значения:"
   ]
  },
  {
   "cell_type": "markdown",
   "id": "96376a75",
   "metadata": {},
   "source": [
    "p-value меньше уровня значимости (0.05), это говорит о том, что разница между группами статистически значима.\n",
    "\n",
    "Мы отклоняем нулевую гипотезу, это означает, что существует статистически значимая разница во времени доставки между группами. И можно сделать вывод о том, что группы имеют различия во времени доставки и данные дают основание считать это наблюдение неслучайным."
   ]
  },
  {
   "cell_type": "markdown",
   "id": "9cb82b82",
   "metadata": {},
   "source": [
    "5 - Включить в отчет значения p-значения и интерпретировать его значение с учетом выбранного уровня значимости."
   ]
  },
  {
   "cell_type": "markdown",
   "id": "76e568dc",
   "metadata": {},
   "source": [
    "Полученное p-значение равно 0.0, что говорит о крайне низкой вероятности случайности и подчеркивает статистическую значимость различия во времени доставки между группами, особенно с учетом выбранного уровня значимости (0.05)."
   ]
  }
 ],
 "metadata": {
  "kernelspec": {
   "display_name": "Python 3 (ipykernel)",
   "language": "python",
   "name": "python3"
  },
  "language_info": {
   "codemirror_mode": {
    "name": "ipython",
    "version": 3
   },
   "file_extension": ".py",
   "mimetype": "text/x-python",
   "name": "python",
   "nbconvert_exporter": "python",
   "pygments_lexer": "ipython3",
   "version": "3.9.13"
  }
 },
 "nbformat": 4,
 "nbformat_minor": 5
}
